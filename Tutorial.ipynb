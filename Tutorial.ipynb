{
 "cells": [
  {
   "cell_type": "code",
   "execution_count": 1,
   "metadata": {},
   "outputs": [],
   "source": [
    "from SIENA.siena import *\n",
    "from helper import *"
   ]
  },
  {
   "cell_type": "markdown",
   "metadata": {},
   "source": [
    "To assess the mean AUC of SIENA, we need to repeat the described pipeline multiple times and average the AUC obtained in each run. This is the same process as the one used in the paper to calculate SIENA's AUC means.\n",
    "Here we exemplify the procedure for the islam dataset using only 2 runs."
   ]
  },
  {
   "cell_type": "code",
   "execution_count": 5,
   "metadata": {},
   "outputs": [
    {
     "name": "stdout",
     "output_type": "stream",
     "text": [
      "Using log scalings\n",
      "Minisamples: 1\n",
      "1000/1000 [100%] ██████████████████████████████ Elapsed: 107s | Loss: 17661.345\n",
      "rho1_values shape: (100, 44, 6757)\n",
      "rho2_values shape: (100, 48, 6757)\n",
      "Using log scalings\n",
      "Minisamples: 1\n",
      "1000/1000 [100%] ██████████████████████████████ Elapsed: 107s | Loss: 17612.497\n",
      "rho1_values shape: (100, 44, 6757)\n",
      "rho2_values shape: (100, 48, 6757)\n",
      "[0.6890521447545355, 0.6885060811683533]\n"
     ]
    }
   ],
   "source": [
    "n_times = 2 #number of runs\n",
    "n_epochs = 1000\n",
    "path = './data/Islam'\n",
    "trueDEG = pd.read_csv(path + '/trueDEG.txt', sep=\",\", header=0)\n",
    "data = CSVDataset(path, \"Islam_treated.csv\", labels_file=\"Islam_labels.csv\")\n",
    "aucs = []\n",
    "for i in range(n_times):\n",
    "    model = ModelDE(data.X,data.cell_types,data.labels, zero_inflation=False, dispersion=True, use_log=True)\n",
    "    model.approximate_model(iters=n_epochs)\n",
    "    scores = model.differential_expression_scores(\"MEF\",\"ESC\", n_samples=100)\n",
    "    res = model.differentially_expressed_genes(data.gene_names,scores)\n",
    "    auc_myModel = calculate_auc(res['factor'], res[\"Gene\"], trueDEG[\"SYMBOL\"])\n",
    "    aucs.append(auc_myModel)\n",
    "print(aucs)"
   ]
  },
  {
   "cell_type": "markdown",
   "metadata": {},
   "source": [
    "For the synthetic data the procedure is almost the same, with some small changes.\n",
    "Here we exemplify the procedure with the 50-50-50-50 dataset."
   ]
  },
  {
   "cell_type": "code",
   "execution_count": 9,
   "metadata": {},
   "outputs": [
    {
     "name": "stdout",
     "output_type": "stream",
     "text": [
      "Using log scalings\n",
      "No Dispersion\n",
      "Minisamples: 1\n",
      "1000/1000 [100%] ██████████████████████████████ Elapsed: 82s | Loss: 24166.068\n",
      "rho1_values shape: (100, 500, 1000)\n",
      "rho2_values shape: (100, 500, 1000)\n",
      "Using log scalings\n",
      "No Dispersion\n",
      "Minisamples: 1\n",
      "1000/1000 [100%] ██████████████████████████████ Elapsed: 82s | Loss: 24208.380\n",
      "rho1_values shape: (100, 500, 1000)\n",
      "rho2_values shape: (100, 500, 1000)\n",
      "[0.9232250000000001, 0.9193874999999999]\n"
     ]
    }
   ],
   "source": [
    "n_times = 2 #number of runs\n",
    "n_epochs = 1000\n",
    "path = './data/Sinteticos/50-50-50-50-400-400'\n",
    "trueDEG = pd.read_csv(path + '/trueDEG.txt', sep=\",\", header=0)\n",
    "data = CSVDataset(path, \"synthetic.csv\", gene_by_cell=True, labels_file=\"labels.csv\")\n",
    "aucs = []\n",
    "for i in range(n_times):\n",
    "    model = ModelDE(data.X,data.cell_types,data.labels, zero_inflation=False, dispersion=False, use_log=True)\n",
    "    model.approximate_model(iters=n_epochs)\n",
    "    scores = model.differential_expression_scores(\"B\",\"A\", n_samples=100)\n",
    "    res = model.differentially_expressed_genes(data.gene_names,scores)\n",
    "    auc_myModel = calculate_auc(res['factor'], res[\"Gene\"], trueDEG[\"Gene\"])\n",
    "    aucs.append(auc_myModel)\n",
    "print(aucs)"
   ]
  },
  {
   "cell_type": "code",
   "execution_count": null,
   "metadata": {},
   "outputs": [],
   "source": []
  }
 ],
 "metadata": {
  "kernelspec": {
   "display_name": "Python 3",
   "language": "python",
   "name": "python3"
  },
  "language_info": {
   "codemirror_mode": {
    "name": "ipython",
    "version": 3
   },
   "file_extension": ".py",
   "mimetype": "text/x-python",
   "name": "python",
   "nbconvert_exporter": "python",
   "pygments_lexer": "ipython3",
   "version": "3.6.8"
  }
 },
 "nbformat": 4,
 "nbformat_minor": 2
}
